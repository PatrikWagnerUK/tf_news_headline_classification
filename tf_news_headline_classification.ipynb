{
 "cells": [
  {
   "cell_type": "code",
   "execution_count": 62,
   "id": "0535b90c",
   "metadata": {},
   "outputs": [],
   "source": [
    "import pandas as pd\n",
    "import regex as re\n",
    "import numpy as np\n",
    "import matplotlib.pyplot as plt\n",
    "import tensorflow as tf\n",
    "from tensorflow import keras\n",
    "from tensorflow.keras.preprocessing.text import Tokenizer\n",
    "from tensorflow.keras.preprocessing.sequence import pad_sequences\n",
    "from tensorflow.keras import layers\n",
    "from tensorflow.keras.models import Sequential\n",
    "from sklearn import preprocessing\n",
    "from tensorflow.keras.optimizers import RMSprop\n",
    "from tensorflow.keras import utils\n",
    "from keras.callbacks import EarlyStopping, ModelCheckpoint, ReduceLROnPlateau\n",
    "from imblearn.over_sampling import SMOTE"
   ]
  },
  {
   "cell_type": "code",
   "execution_count": null,
   "id": "fde84e9e",
   "metadata": {},
   "outputs": [],
   "source": []
  },
  {
   "cell_type": "code",
   "execution_count": 2,
   "id": "f79fa140",
   "metadata": {},
   "outputs": [],
   "source": [
    "df_one = pd.read_csv('../final_news_df.csv')\n",
    "df_one = df_one[['headline', 'category']]"
   ]
  },
  {
   "cell_type": "code",
   "execution_count": 3,
   "id": "9d26cbcf",
   "metadata": {},
   "outputs": [
    {
     "data": {
      "text/html": [
       "<div>\n",
       "<style scoped>\n",
       "    .dataframe tbody tr th:only-of-type {\n",
       "        vertical-align: middle;\n",
       "    }\n",
       "\n",
       "    .dataframe tbody tr th {\n",
       "        vertical-align: top;\n",
       "    }\n",
       "\n",
       "    .dataframe thead th {\n",
       "        text-align: right;\n",
       "    }\n",
       "</style>\n",
       "<table border=\"1\" class=\"dataframe\">\n",
       "  <thead>\n",
       "    <tr style=\"text-align: right;\">\n",
       "      <th></th>\n",
       "      <th>short_description</th>\n",
       "      <th>category</th>\n",
       "    </tr>\n",
       "  </thead>\n",
       "  <tbody>\n",
       "    <tr>\n",
       "      <th>0</th>\n",
       "      <td>She left her husband. He killed their children...</td>\n",
       "      <td>CRIME</td>\n",
       "    </tr>\n",
       "    <tr>\n",
       "      <th>1</th>\n",
       "      <td>Of course it has a song.</td>\n",
       "      <td>ENTERTAINMENT</td>\n",
       "    </tr>\n",
       "    <tr>\n",
       "      <th>2</th>\n",
       "      <td>The actor and his longtime girlfriend Anna Ebe...</td>\n",
       "      <td>ENTERTAINMENT</td>\n",
       "    </tr>\n",
       "    <tr>\n",
       "      <th>3</th>\n",
       "      <td>The actor gives Dems an ass-kicking for not fi...</td>\n",
       "      <td>ENTERTAINMENT</td>\n",
       "    </tr>\n",
       "    <tr>\n",
       "      <th>4</th>\n",
       "      <td>The \"Dietland\" actress said using the bags is ...</td>\n",
       "      <td>ENTERTAINMENT</td>\n",
       "    </tr>\n",
       "  </tbody>\n",
       "</table>\n",
       "</div>"
      ],
      "text/plain": [
       "                                   short_description       category\n",
       "0  She left her husband. He killed their children...          CRIME\n",
       "1                           Of course it has a song.  ENTERTAINMENT\n",
       "2  The actor and his longtime girlfriend Anna Ebe...  ENTERTAINMENT\n",
       "3  The actor gives Dems an ass-kicking for not fi...  ENTERTAINMENT\n",
       "4  The \"Dietland\" actress said using the bags is ...  ENTERTAINMENT"
      ]
     },
     "execution_count": 3,
     "metadata": {},
     "output_type": "execute_result"
    }
   ],
   "source": [
    "def load_data(file_path):\n",
    "    df = pd.read_json(file_path, lines = True)\n",
    "    df['category'] = pd.Categorical(df['category'])\n",
    "    return df[[\"short_description\", \"category\"]]\n",
    "\n",
    "df_two = load_data('../News_Category_Dataset_v2.json')\n",
    "df_two.head()"
   ]
  },
  {
   "cell_type": "code",
   "execution_count": 4,
   "id": "3c3bc92f",
   "metadata": {},
   "outputs": [
    {
     "name": "stdout",
     "output_type": "stream",
     "text": [
      "<class 'pandas.core.frame.DataFrame'>\n",
      "RangeIndex: 30000 entries, 0 to 29999\n",
      "Data columns (total 2 columns):\n",
      " #   Column    Non-Null Count  Dtype \n",
      "---  ------    --------------  ----- \n",
      " 0   headline  30000 non-null  object\n",
      " 1   category  30000 non-null  object\n",
      "dtypes: object(2)\n",
      "memory usage: 468.9+ KB\n"
     ]
    }
   ],
   "source": [
    "df_one.info()"
   ]
  },
  {
   "cell_type": "code",
   "execution_count": 5,
   "id": "0d90aa9f",
   "metadata": {},
   "outputs": [
    {
     "data": {
      "text/plain": [
       "BUSINESS        5000\n",
       "POLITICS        5000\n",
       "WELLNESS        5000\n",
       "PARENTING       5000\n",
       "FOOD & DRINK    5000\n",
       "WORLD NEWS      5000\n",
       "Name: category, dtype: int64"
      ]
     },
     "execution_count": 5,
     "metadata": {},
     "output_type": "execute_result"
    }
   ],
   "source": [
    "df_one.category.value_counts()"
   ]
  },
  {
   "cell_type": "code",
   "execution_count": 6,
   "id": "09cdc07e",
   "metadata": {},
   "outputs": [
    {
     "name": "stdout",
     "output_type": "stream",
     "text": [
      "<class 'pandas.core.frame.DataFrame'>\n",
      "RangeIndex: 200853 entries, 0 to 200852\n",
      "Data columns (total 2 columns):\n",
      " #   Column             Non-Null Count   Dtype   \n",
      "---  ------             --------------   -----   \n",
      " 0   short_description  200853 non-null  object  \n",
      " 1   category           200853 non-null  category\n",
      "dtypes: category(1), object(1)\n",
      "memory usage: 1.7+ MB\n"
     ]
    }
   ],
   "source": [
    "df_two.info()"
   ]
  },
  {
   "cell_type": "code",
   "execution_count": null,
   "id": "cf2b11cb",
   "metadata": {},
   "outputs": [],
   "source": []
  },
  {
   "cell_type": "markdown",
   "id": "a203c25f",
   "metadata": {},
   "source": [
    "### DF Two Preparation"
   ]
  },
  {
   "cell_type": "code",
   "execution_count": 7,
   "id": "2526b598",
   "metadata": {},
   "outputs": [
    {
     "data": {
      "text/plain": [
       "POLITICS          32739\n",
       "WELLNESS          17827\n",
       "ENTERTAINMENT     16058\n",
       "TRAVEL             9887\n",
       "STYLE & BEAUTY     9649\n",
       "PARENTING          8677\n",
       "HEALTHY LIVING     6694\n",
       "QUEER VOICES       6314\n",
       "FOOD & DRINK       6226\n",
       "BUSINESS           5937\n",
       "COMEDY             5175\n",
       "SPORTS             4884\n",
       "BLACK VOICES       4528\n",
       "HOME & LIVING      4195\n",
       "PARENTS            3955\n",
       "THE WORLDPOST      3664\n",
       "WEDDINGS           3651\n",
       "WOMEN              3490\n",
       "IMPACT             3459\n",
       "DIVORCE            3426\n",
       "CRIME              3405\n",
       "MEDIA              2815\n",
       "WEIRD NEWS         2670\n",
       "GREEN              2622\n",
       "WORLDPOST          2579\n",
       "RELIGION           2556\n",
       "STYLE              2254\n",
       "SCIENCE            2178\n",
       "WORLD NEWS         2177\n",
       "TASTE              2096\n",
       "TECH               2082\n",
       "MONEY              1707\n",
       "ARTS               1509\n",
       "FIFTY              1401\n",
       "GOOD NEWS          1398\n",
       "ARTS & CULTURE     1339\n",
       "ENVIRONMENT        1323\n",
       "COLLEGE            1144\n",
       "LATINO VOICES      1129\n",
       "CULTURE & ARTS     1030\n",
       "EDUCATION          1004\n",
       "Name: category, dtype: int64"
      ]
     },
     "execution_count": 7,
     "metadata": {},
     "output_type": "execute_result"
    }
   ],
   "source": [
    "df_two.category.value_counts()"
   ]
  },
  {
   "cell_type": "code",
   "execution_count": 8,
   "id": "0c63cb41",
   "metadata": {},
   "outputs": [],
   "source": [
    "business = df_two[(df_two['category'] == 'BUSINESS') | (df_two['category'] == 'TECH') | (df_two['category'] == 'MONEY')]\n",
    "food = df_two[(df_two['category'] == 'FOOD & DRINK')]\n",
    "parenting = df_two[(df_two['category'] == 'PARENTING') | (df_two['category'] == 'PARENTS')]\n",
    "politics = df_two[(df_two['category'] == 'POLITICS')]\n",
    "wellness = df_two[(df_two['category'] == 'WELLNESS')]\n",
    "world_news = df_two[(df_two['category'] == 'THE WORLDPOST') | (df_two['category'] == 'WORLDPOST') | (df_two['category'] == 'WORLD NEWS')]"
   ]
  },
  {
   "cell_type": "code",
   "execution_count": 9,
   "id": "8cf17c40",
   "metadata": {
    "scrolled": true
   },
   "outputs": [
    {
     "name": "stderr",
     "output_type": "stream",
     "text": [
      "C:\\Users\\patri\\AppData\\Local\\Temp/ipykernel_16196/1727108867.py:1: SettingWithCopyWarning: \n",
      "A value is trying to be set on a copy of a slice from a DataFrame.\n",
      "Try using .loc[row_indexer,col_indexer] = value instead\n",
      "\n",
      "See the caveats in the documentation: https://pandas.pydata.org/pandas-docs/stable/user_guide/indexing.html#returning-a-view-versus-a-copy\n",
      "  business['category'] = 'BUSINESS'\n",
      "C:\\Users\\patri\\AppData\\Local\\Temp/ipykernel_16196/1727108867.py:2: SettingWithCopyWarning: \n",
      "A value is trying to be set on a copy of a slice from a DataFrame.\n",
      "Try using .loc[row_indexer,col_indexer] = value instead\n",
      "\n",
      "See the caveats in the documentation: https://pandas.pydata.org/pandas-docs/stable/user_guide/indexing.html#returning-a-view-versus-a-copy\n",
      "  food['category'] = 'FOOD & DRINK'\n",
      "C:\\Users\\patri\\AppData\\Local\\Temp/ipykernel_16196/1727108867.py:3: SettingWithCopyWarning: \n",
      "A value is trying to be set on a copy of a slice from a DataFrame.\n",
      "Try using .loc[row_indexer,col_indexer] = value instead\n",
      "\n",
      "See the caveats in the documentation: https://pandas.pydata.org/pandas-docs/stable/user_guide/indexing.html#returning-a-view-versus-a-copy\n",
      "  parenting['category'] = 'PARENTING'\n",
      "C:\\Users\\patri\\AppData\\Local\\Temp/ipykernel_16196/1727108867.py:4: SettingWithCopyWarning: \n",
      "A value is trying to be set on a copy of a slice from a DataFrame.\n",
      "Try using .loc[row_indexer,col_indexer] = value instead\n",
      "\n",
      "See the caveats in the documentation: https://pandas.pydata.org/pandas-docs/stable/user_guide/indexing.html#returning-a-view-versus-a-copy\n",
      "  politics['category'] = 'POLITICS'\n",
      "C:\\Users\\patri\\AppData\\Local\\Temp/ipykernel_16196/1727108867.py:5: SettingWithCopyWarning: \n",
      "A value is trying to be set on a copy of a slice from a DataFrame.\n",
      "Try using .loc[row_indexer,col_indexer] = value instead\n",
      "\n",
      "See the caveats in the documentation: https://pandas.pydata.org/pandas-docs/stable/user_guide/indexing.html#returning-a-view-versus-a-copy\n",
      "  wellness['category'] = 'WELLNESS'\n",
      "C:\\Users\\patri\\AppData\\Local\\Temp/ipykernel_16196/1727108867.py:6: SettingWithCopyWarning: \n",
      "A value is trying to be set on a copy of a slice from a DataFrame.\n",
      "Try using .loc[row_indexer,col_indexer] = value instead\n",
      "\n",
      "See the caveats in the documentation: https://pandas.pydata.org/pandas-docs/stable/user_guide/indexing.html#returning-a-view-versus-a-copy\n",
      "  world_news['category'] = 'WORLD NEWS'\n"
     ]
    }
   ],
   "source": [
    "business['category'] = 'BUSINESS'\n",
    "food['category'] = 'FOOD & DRINK'\n",
    "parenting['category'] = 'PARENTING'\n",
    "politics['category'] = 'POLITICS'\n",
    "wellness['category'] = 'WELLNESS'\n",
    "world_news['category'] = 'WORLD NEWS'"
   ]
  },
  {
   "cell_type": "code",
   "execution_count": 10,
   "id": "c99ad41c",
   "metadata": {},
   "outputs": [],
   "source": [
    "final_df_two = business.append([food, parenting, politics, wellness, world_news])"
   ]
  },
  {
   "cell_type": "code",
   "execution_count": 11,
   "id": "fb44386a",
   "metadata": {},
   "outputs": [
    {
     "name": "stdout",
     "output_type": "stream",
     "text": [
      "<class 'pandas.core.frame.DataFrame'>\n",
      "Int64Index: 87570 entries, 87 to 124973\n",
      "Data columns (total 2 columns):\n",
      " #   Column             Non-Null Count  Dtype \n",
      "---  ------             --------------  ----- \n",
      " 0   short_description  87570 non-null  object\n",
      " 1   category           87570 non-null  object\n",
      "dtypes: object(2)\n",
      "memory usage: 2.0+ MB\n"
     ]
    }
   ],
   "source": [
    "final_df_two.info()"
   ]
  },
  {
   "cell_type": "code",
   "execution_count": 12,
   "id": "40504ec4",
   "metadata": {},
   "outputs": [
    {
     "data": {
      "text/plain": [
       "POLITICS        32739\n",
       "WELLNESS        17827\n",
       "PARENTING       12632\n",
       "BUSINESS         9726\n",
       "WORLD NEWS       8420\n",
       "FOOD & DRINK     6226\n",
       "Name: category, dtype: int64"
      ]
     },
     "execution_count": 12,
     "metadata": {},
     "output_type": "execute_result"
    }
   ],
   "source": [
    "final_df_two.category.value_counts()"
   ]
  },
  {
   "cell_type": "code",
   "execution_count": 13,
   "id": "d7ba3f68",
   "metadata": {},
   "outputs": [],
   "source": [
    "final_df_two = final_df_two.rename(columns={\"short_description\":\"headline\"})"
   ]
  },
  {
   "cell_type": "markdown",
   "id": "40080b48",
   "metadata": {},
   "source": [
    "## Merge"
   ]
  },
  {
   "cell_type": "code",
   "execution_count": 14,
   "id": "2555298d",
   "metadata": {},
   "outputs": [],
   "source": [
    "merged_df = df_one.append([final_df_two])"
   ]
  },
  {
   "cell_type": "code",
   "execution_count": 15,
   "id": "b2b00152",
   "metadata": {},
   "outputs": [
    {
     "name": "stdout",
     "output_type": "stream",
     "text": [
      "<class 'pandas.core.frame.DataFrame'>\n",
      "Int64Index: 117570 entries, 0 to 124973\n",
      "Data columns (total 2 columns):\n",
      " #   Column    Non-Null Count   Dtype \n",
      "---  ------    --------------   ----- \n",
      " 0   headline  117570 non-null  object\n",
      " 1   category  117570 non-null  object\n",
      "dtypes: object(2)\n",
      "memory usage: 2.7+ MB\n"
     ]
    }
   ],
   "source": [
    "merged_df.info()"
   ]
  },
  {
   "cell_type": "code",
   "execution_count": null,
   "id": "bce91ea3",
   "metadata": {},
   "outputs": [],
   "source": []
  },
  {
   "cell_type": "markdown",
   "id": "c9d48f28",
   "metadata": {},
   "source": [
    "## Further Preprocessing"
   ]
  },
  {
   "cell_type": "code",
   "execution_count": 16,
   "id": "d33e2f08",
   "metadata": {},
   "outputs": [],
   "source": [
    "le = preprocessing.LabelEncoder()\n",
    "merged_df['label_encoding'] = le.fit_transform(merged_df['category'])"
   ]
  },
  {
   "cell_type": "code",
   "execution_count": 17,
   "id": "4821c7af",
   "metadata": {},
   "outputs": [],
   "source": [
    "## Shuffling the dataframe prior to splitting into Train & Test splits\n",
    "\n",
    "merged_df = merged_df.sample(frac=1).reset_index(drop=True)"
   ]
  },
  {
   "cell_type": "code",
   "execution_count": 18,
   "id": "72f0c373",
   "metadata": {},
   "outputs": [],
   "source": [
    "X = merged_df['headline']\n",
    "y = merged_df['label_encoding']\n",
    "\n",
    "X = X.to_numpy()\n",
    "y = y.to_numpy()"
   ]
  },
  {
   "cell_type": "code",
   "execution_count": 19,
   "id": "b7648dce",
   "metadata": {},
   "outputs": [],
   "source": [
    "# Containers defined for later use in tokenizing and padding\n",
    "\n",
    "training_size = 94056\n",
    "vocab_size  = 30000\n",
    "max_length  = 24\n",
    "embedding_dimensions  = 64\n",
    "oov_tok  = \"<OOV>\"\n",
    "\n",
    "# Train and Test\n",
    "\n",
    "X_train  = X[0:training_size]\n",
    "X_test = X[training_size:]\n",
    "y_train  = y[0:training_size]\n",
    "y_test = y[training_size:]"
   ]
  },
  {
   "cell_type": "markdown",
   "id": "c2ec8ba4",
   "metadata": {},
   "source": [
    "## Tokenizing & Padding"
   ]
  },
  {
   "cell_type": "code",
   "execution_count": 20,
   "id": "2095a454",
   "metadata": {},
   "outputs": [],
   "source": [
    "# Tokenizing\n",
    "tokenizer = Tokenizer(num_words=vocab_size, oov_token=oov_tok, filters=\"!\\\"#$%&()*+,-./:;<=>?@[\\\\]^_`{|}~\\t\\n123456789\")\n",
    "tokenizer.fit_on_texts(X_train)\n",
    "\n",
    "word_index = tokenizer.word_index\n",
    "\n",
    "#Sequences\n",
    "training_sequences = tokenizer.texts_to_sequences(X_train)\n",
    "testing_sequences = tokenizer.texts_to_sequences(X_test)\n",
    "\n",
    "# Padding\n",
    "X_train_padded = pad_sequences(training_sequences, padding='post', truncating='post')\n",
    "X_test_padded = pad_sequences(testing_sequences, padding='post', truncating='post')"
   ]
  },
  {
   "cell_type": "code",
   "execution_count": 21,
   "id": "537c448f",
   "metadata": {},
   "outputs": [
    {
     "data": {
      "text/plain": [
       "array([   19,    17,   541,     2,  2186,     9,  4282,  8266,     8,\n",
       "       14727,    14,   436,  1811,    17,    32,   468,   144,   445,\n",
       "          17,    32,   468,     4,   144,   235, 16461,     6,   851,\n",
       "          28,  7927,    62,     8,     2, 29603,  1430,    49,  3559,\n",
       "          56,     5,  3405,    40,  2613,   519,    18,   261,   152,\n",
       "         701,     0,     0,     0,     0,     0,     0,     0,     0,\n",
       "           0,     0,     0,     0,     0,     0,     0,     0,     0,\n",
       "           0,     0,     0,     0,     0,     0,     0,     0,     0,\n",
       "           0,     0,     0,     0,     0,     0,     0,     0,     0,\n",
       "           0,     0,     0,     0,     0,     0,     0,     0,     0,\n",
       "           0,     0,     0,     0,     0,     0,     0,     0,     0,\n",
       "           0,     0,     0,     0,     0,     0,     0,     0,     0,\n",
       "           0,     0,     0,     0,     0,     0,     0,     0,     0,\n",
       "           0,     0,     0,     0,     0,     0,     0,     0,     0,\n",
       "           0,     0,     0,     0,     0,     0,     0,     0,     0,\n",
       "           0,     0,     0,     0,     0,     0,     0,     0,     0,\n",
       "           0,     0,     0,     0,     0,     0,     0,     0,     0,\n",
       "           0,     0,     0,     0,     0,     0,     0,     0,     0,\n",
       "           0,     0,     0,     0,     0,     0,     0,     0,     0,\n",
       "           0,     0,     0,     0,     0,     0,     0,     0,     0,\n",
       "           0,     0,     0,     0,     0,     0,     0,     0,     0,\n",
       "           0,     0,     0,     0,     0,     0,     0,     0,     0,\n",
       "           0,     0,     0,     0,     0,     0,     0,     0,     0,\n",
       "           0,     0,     0,     0,     0,     0,     0,     0,     0,\n",
       "           0,     0,     0,     0,     0,     0,     0,     0,     0,\n",
       "           0,     0,     0,     0,     0,     0,     0,     0,     0,\n",
       "           0,     0,     0,     0,     0,     0,     0,     0,     0,\n",
       "           0,     0])"
      ]
     },
     "execution_count": 21,
     "metadata": {},
     "output_type": "execute_result"
    }
   ],
   "source": [
    "X_train_padded[5]"
   ]
  },
  {
   "cell_type": "code",
   "execution_count": 22,
   "id": "cc021a34",
   "metadata": {},
   "outputs": [],
   "source": [
    "## Addressing class imbalance\n",
    "\n",
    "oversample = SMOTE()\n",
    "X_train_padded_smoted, y_train_smoted = oversample.fit_resample(X_train_padded, y_train)"
   ]
  },
  {
   "cell_type": "code",
   "execution_count": 23,
   "id": "e49ee149",
   "metadata": {},
   "outputs": [],
   "source": [
    "## Making y categorical to prepare for modelling\n",
    "\n",
    "num_classes = np.max(y_train) + 1\n",
    "y_train_smoted = utils.to_categorical(y_train_smoted, num_classes)\n",
    "y_test = utils.to_categorical(y_test, num_classes)"
   ]
  },
  {
   "cell_type": "code",
   "execution_count": 152,
   "id": "fd7ea92d",
   "metadata": {},
   "outputs": [
    {
     "data": {
      "text/plain": [
       "array([[0., 0., 0., 0., 1., 0.],\n",
       "       [0., 0., 0., 1., 0., 0.],\n",
       "       [0., 0., 0., 1., 0., 0.],\n",
       "       ...,\n",
       "       [0., 0., 0., 0., 0., 1.],\n",
       "       [0., 0., 0., 0., 0., 1.],\n",
       "       [0., 0., 0., 0., 0., 1.]], dtype=float32)"
      ]
     },
     "execution_count": 152,
     "metadata": {},
     "output_type": "execute_result"
    }
   ],
   "source": [
    "y_train_smoted"
   ]
  },
  {
   "cell_type": "markdown",
   "id": "27b6e115",
   "metadata": {},
   "source": [
    "## Model"
   ]
  },
  {
   "cell_type": "code",
   "execution_count": 24,
   "id": "a3a36803",
   "metadata": {},
   "outputs": [],
   "source": [
    "#tf.config.run_functions_eagerly(True)"
   ]
  },
  {
   "cell_type": "code",
   "execution_count": 112,
   "id": "1d885e1e",
   "metadata": {},
   "outputs": [],
   "source": [
    "model = Sequential()\n",
    "model.add(layers.Embedding(vocab_size, embedding_dimensions, embeddings_initializer=\"uniform\",))\n",
    "model.add(layers.GlobalAveragePooling1D())\n",
    "model.add(layers.Dense(20, activation='relu'))\n",
    "#model.add(layers.Dense(300, activation='relu'))\n",
    "#model.add(layers.Dense(200, activation='relu'))\n",
    "model.add(layers.Dropout(0.2))\n",
    "#model.add(layers.Dense(100, activation='relu'))\n",
    "model.add(layers.Dense(num_classes, activation='softmax'))"
   ]
  },
  {
   "cell_type": "code",
   "execution_count": 43,
   "id": "8d41f7b8",
   "metadata": {},
   "outputs": [
    {
     "name": "stdout",
     "output_type": "stream",
     "text": [
      "Model: \"sequential_1\"\n",
      "_________________________________________________________________\n",
      "Layer (type)                 Output Shape              Param #   \n",
      "=================================================================\n",
      "embedding_1 (Embedding)      (None, None, 64)          1920000   \n",
      "_________________________________________________________________\n",
      "global_average_pooling1d_1 ( (None, 64)                0         \n",
      "_________________________________________________________________\n",
      "dense_5 (Dense)              (None, 400)               26000     \n",
      "_________________________________________________________________\n",
      "dense_6 (Dense)              (None, 300)               120300    \n",
      "_________________________________________________________________\n",
      "dense_7 (Dense)              (None, 200)               60200     \n",
      "_________________________________________________________________\n",
      "dropout (Dropout)            (None, 200)               0         \n",
      "_________________________________________________________________\n",
      "dense_8 (Dense)              (None, 100)               20100     \n",
      "_________________________________________________________________\n",
      "dense_9 (Dense)              (None, 6)                 606       \n",
      "=================================================================\n",
      "Total params: 2,147,206\n",
      "Trainable params: 2,147,206\n",
      "Non-trainable params: 0\n",
      "_________________________________________________________________\n"
     ]
    }
   ],
   "source": [
    "model.summary()"
   ]
  },
  {
   "cell_type": "code",
   "execution_count": 105,
   "id": "11a95635",
   "metadata": {},
   "outputs": [],
   "source": [
    "## Setting a callback to stop training when the validation accuracy has not increased in the past 4 epochs\n",
    "\n",
    "earlyStopping = EarlyStopping(monitor='val_loss', patience=5, verbose=0, mode='min')\n",
    "mcp_save = ModelCheckpoint('.mdl_wts.hdf5', save_best_only=True, monitor='val_accuracy', mode='max')\n",
    "reduce_lr_loss = ReduceLROnPlateau(monitor='val_loss', factor=0.01, patience=5, verbose=1, min_delta=0.001, mode='min')"
   ]
  },
  {
   "cell_type": "code",
   "execution_count": 113,
   "id": "b11b1884",
   "metadata": {
    "scrolled": false
   },
   "outputs": [
    {
     "name": "stdout",
     "output_type": "stream",
     "text": [
      "Epoch 1/10\n",
      "907/907 [==============================] - 6s 6ms/step - loss: 1.7363 - accuracy: 0.2314 - val_loss: 1.5856 - val_accuracy: 0.4037\n",
      "Epoch 2/10\n",
      "907/907 [==============================] - 5s 6ms/step - loss: 1.6059 - accuracy: 0.3125 - val_loss: 1.3624 - val_accuracy: 0.4583\n",
      "Epoch 3/10\n",
      "907/907 [==============================] - 5s 6ms/step - loss: 1.5316 - accuracy: 0.3615 - val_loss: 1.3126 - val_accuracy: 0.5129\n",
      "Epoch 4/10\n",
      "907/907 [==============================] - 5s 6ms/step - loss: 1.4866 - accuracy: 0.3949 - val_loss: 1.2213 - val_accuracy: 0.5586\n",
      "Epoch 5/10\n",
      "907/907 [==============================] - 5s 6ms/step - loss: 1.4468 - accuracy: 0.4203 - val_loss: 1.1734 - val_accuracy: 0.5791\n",
      "Epoch 6/10\n",
      "907/907 [==============================] - 5s 6ms/step - loss: 1.4116 - accuracy: 0.4414 - val_loss: 1.1717 - val_accuracy: 0.5926\n",
      "Epoch 7/10\n",
      "907/907 [==============================] - 5s 6ms/step - loss: 1.3825 - accuracy: 0.4560 - val_loss: 1.1142 - val_accuracy: 0.6219\n",
      "Epoch 8/10\n",
      "907/907 [==============================] - 5s 6ms/step - loss: 1.3555 - accuracy: 0.4690 - val_loss: 1.0056 - val_accuracy: 0.6746\n",
      "Epoch 9/10\n",
      "907/907 [==============================] - 5s 6ms/step - loss: 1.3352 - accuracy: 0.4796 - val_loss: 0.9737 - val_accuracy: 0.6828\n",
      "Epoch 10/10\n",
      "907/907 [==============================] - 5s 6ms/step - loss: 1.3126 - accuracy: 0.4908 - val_loss: 0.9178 - val_accuracy: 0.7022\n"
     ]
    }
   ],
   "source": [
    "model.compile(optimizer=RMSprop(lr=0.001), loss='categorical_crossentropy', metrics=['accuracy'])\n",
    "#model.compile(optimizer='adam', loss='categorical_crossentropy', metrics=['accuracy'])\n",
    "#model.compile(optimizer='adam', loss='categorical_crossentropy', metrics=['accuracy'])\n",
    "\n",
    "history = model.fit(X_train_padded_smoted,\n",
    "                    y_train_smoted,\n",
    "                    epochs=10,\n",
    "                    validation_data=(X_test_padded, y_test),\n",
    "                    batch_size=200,\n",
    "                    callbacks=[earlyStopping, mcp_save, reduce_lr_loss],\n",
    "                    verbose=1)"
   ]
  },
  {
   "cell_type": "code",
   "execution_count": 114,
   "id": "26745fac",
   "metadata": {},
   "outputs": [
    {
     "data": {
      "image/png": "[encoded data removed]",
      "text/plain": [
       "<Figure size 432x288 with 1 Axes>"
      ]
     },
     "metadata": {
      "needs_background": "light"
     },
     "output_type": "display_data"
    },
    {
     "data": {
      "image/png": "[encoded data removed]",
      "text/plain": [
       "<Figure size 432x288 with 1 Axes>"
      ]
     },
     "metadata": {
      "needs_background": "light"
     },
     "output_type": "display_data"
    }
   ],
   "source": [
    "def plot_graphs(history, string):\n",
    "  plt.plot(history.history[string])\n",
    "  plt.plot(history.history['val_'+string])\n",
    "  plt.xlabel(\"Epochs\")\n",
    "  plt.ylabel(string)\n",
    "  plt.legend([string, 'val_'+string])\n",
    "  plt.show()\n",
    "\n",
    "plot_graphs(history, 'accuracy')\n",
    "plot_graphs(history, 'loss')"
   ]
  },
  {
   "cell_type": "code",
   "execution_count": 115,
   "id": "460b181f",
   "metadata": {},
   "outputs": [
    {
     "name": "stdout",
     "output_type": "stream",
     "text": [
      "INFO:tensorflow:Assets written to: ./headline_model\\assets\n"
     ]
    }
   ],
   "source": [
    "model.save('./headline_model',save_format='tf')"
   ]
  },
  {
   "cell_type": "markdown",
   "id": "a1d8bdbd",
   "metadata": {},
   "source": [
    "## Model Testing"
   ]
  },
  {
   "cell_type": "code",
   "execution_count": 148,
   "id": "f5db0c1b",
   "metadata": {},
   "outputs": [],
   "source": [
    "test_headline = \"Families moving abroad more often\"\n",
    "\n",
    "sequences = tokenizer.texts_to_sequences(test_headline)\n",
    "padded = pad_sequences(sequences, maxlen=max_length, padding='post', truncating='post')\n",
    "test_preds = model.predict(padded)"
   ]
  },
  {
   "cell_type": "code",
   "execution_count": 149,
   "id": "626a0580",
   "metadata": {
    "scrolled": true
   },
   "outputs": [
    {
     "data": {
      "text/plain": [
       "array([[4.73062135e-02, 8.24494194e-03, 2.91600954e-02, 8.87662649e-01,\n",
       "        1.45453280e-02, 1.30807748e-02],\n",
       "       [2.63651460e-02, 1.62419248e-02, 3.60452868e-02, 8.98519158e-01,\n",
       "        1.34026632e-02, 9.42587852e-03],\n",
       "       [3.80470514e-01, 2.67591868e-02, 5.86130656e-02, 7.18019810e-03,\n",
       "        3.97929877e-01, 1.29047126e-01],\n",
       "       [5.77271804e-02, 6.27797395e-02, 6.04634106e-01, 9.94521845e-03,\n",
       "        2.33618617e-01, 3.12951580e-02],\n",
       "       [5.69053367e-02, 1.13832513e-02, 1.13548553e-02, 7.20465660e-01,\n",
       "        2.55441363e-03, 1.97336555e-01],\n",
       "       [5.77271804e-02, 6.27797395e-02, 6.04634106e-01, 9.94521845e-03,\n",
       "        2.33618617e-01, 3.12951580e-02],\n",
       "       [2.31264889e-01, 8.53083134e-02, 1.83002457e-01, 3.02421977e-03,\n",
       "        4.02808666e-01, 9.45915058e-02],\n",
       "       [2.89515346e-01, 1.13809206e-01, 1.25878900e-01, 1.12154491e-01,\n",
       "        6.03325106e-02, 2.98309505e-01],\n",
       "       [1.30094945e-01, 1.65744379e-01, 1.12851314e-01, 3.64400655e-01,\n",
       "        3.93216386e-02, 1.87587112e-01],\n",
       "       [3.80470514e-01, 2.67591868e-02, 5.86130656e-02, 7.18019810e-03,\n",
       "        3.97929877e-01, 1.29047126e-01],\n",
       "       [1.37196124e-01, 4.59493816e-01, 1.36359170e-01, 2.65088622e-02,\n",
       "        8.34216699e-02, 1.57020360e-01],\n",
       "       [2.26529245e-03, 2.29331519e-04, 6.36515266e-04, 9.93170023e-01,\n",
       "        1.08111301e-04, 3.59081803e-03],\n",
       "       [5.77271804e-02, 6.27797395e-02, 6.04634106e-01, 9.94521845e-03,\n",
       "        2.33618617e-01, 3.12951580e-02],\n",
       "       [1.88244238e-01, 1.37620971e-01, 8.17972943e-02, 2.07006857e-02,\n",
       "        5.61423786e-02, 5.15494466e-01],\n",
       "       [9.56998318e-02, 1.25206234e-02, 8.12953245e-03, 3.03241551e-01,\n",
       "        4.22816165e-03, 5.76180279e-01],\n",
       "       [1.30094945e-01, 1.65744379e-01, 1.12851314e-01, 3.64400655e-01,\n",
       "        3.93216386e-02, 1.87587112e-01],\n",
       "       [2.63651460e-02, 1.62419248e-02, 3.60452868e-02, 8.98519158e-01,\n",
       "        1.34026632e-02, 9.42587852e-03],\n",
       "       [3.59124035e-01, 2.14521401e-02, 4.44457792e-02, 1.03250276e-02,\n",
       "        5.13861477e-01, 5.07915393e-02],\n",
       "       [1.13916220e-02, 3.30620958e-03, 2.82606911e-02, 9.47571635e-01,\n",
       "        6.14710944e-03, 3.32271913e-03],\n",
       "       [1.37196124e-01, 4.59493816e-01, 1.36359170e-01, 2.65088622e-02,\n",
       "        8.34216699e-02, 1.57020360e-01],\n",
       "       [2.63651460e-02, 1.62419248e-02, 3.60452868e-02, 8.98519158e-01,\n",
       "        1.34026632e-02, 9.42587852e-03],\n",
       "       [1.71705052e-01, 1.83707546e-03, 1.14645166e-02, 6.53607965e-01,\n",
       "        1.54119968e-01, 7.26547651e-03],\n",
       "       [1.30094945e-01, 1.65744379e-01, 1.12851314e-01, 3.64400655e-01,\n",
       "        3.93216386e-02, 1.87587112e-01],\n",
       "       [3.80470514e-01, 2.67591868e-02, 5.86130656e-02, 7.18019810e-03,\n",
       "        3.97929877e-01, 1.29047126e-01],\n",
       "       [1.37196124e-01, 4.59493816e-01, 1.36359170e-01, 2.65088622e-02,\n",
       "        8.34216699e-02, 1.57020360e-01],\n",
       "       [1.13916220e-02, 3.30620958e-03, 2.82606911e-02, 9.47571635e-01,\n",
       "        6.14710944e-03, 3.32271913e-03],\n",
       "       [2.31264889e-01, 8.53083134e-02, 1.83002457e-01, 3.02421977e-03,\n",
       "        4.02808666e-01, 9.45915058e-02],\n",
       "       [1.30094945e-01, 1.65744379e-01, 1.12851314e-01, 3.64400655e-01,\n",
       "        3.93216386e-02, 1.87587112e-01],\n",
       "       [1.37196124e-01, 4.59493816e-01, 1.36359170e-01, 2.65088622e-02,\n",
       "        8.34216699e-02, 1.57020360e-01],\n",
       "       [4.73062135e-02, 8.24494194e-03, 2.91600954e-02, 8.87662649e-01,\n",
       "        1.45453280e-02, 1.30807748e-02],\n",
       "       [2.39725009e-01, 6.92406297e-02, 3.88126165e-01, 4.80371639e-02,\n",
       "        1.12821549e-01, 1.42049491e-01],\n",
       "       [2.31264889e-01, 8.53083134e-02, 1.83002457e-01, 3.02421977e-03,\n",
       "        4.02808666e-01, 9.45915058e-02],\n",
       "       [1.88244238e-01, 1.37620971e-01, 8.17972943e-02, 2.07006857e-02,\n",
       "        5.61423786e-02, 5.15494466e-01]], dtype=float32)"
      ]
     },
     "execution_count": 149,
     "metadata": {},
     "output_type": "execute_result"
    }
   ],
   "source": [
    "test_preds"
   ]
  },
  {
   "cell_type": "code",
   "execution_count": 150,
   "id": "0dcb6241",
   "metadata": {},
   "outputs": [
    {
     "name": "stdout",
     "output_type": "stream",
     "text": [
      "[3 3 4 2 3 2 4 5 3 4 1 3 2 5 5 3 3 4 3 1 3 3 3 4 1 3 4 3 1 3 2 4 5]\n"
     ]
    }
   ],
   "source": [
    "# Generate arg maxes for predictions\n",
    "classes = np.argmax(test_preds, axis = 1)\n",
    "print(classes)"
   ]
  },
  {
   "cell_type": "code",
   "execution_count": 151,
   "id": "a84a6df4",
   "metadata": {},
   "outputs": [
    {
     "name": "stdout",
     "output_type": "stream",
     "text": [
      "3\n"
     ]
    }
   ],
   "source": [
    "## Looking at all the predicted categories assigned to each word, which is the most frequent category?\n",
    "print(np.bincount(classes).argmax())"
   ]
  },
  {
   "cell_type": "code",
   "execution_count": 121,
   "id": "31bb02f2",
   "metadata": {},
   "outputs": [],
   "source": [
    "def classify_headline(target):\n",
    "    \n",
    "    sequences = tokenizer.texts_to_sequences(target)\n",
    "    padded = pad_sequences(sequences, maxlen=max_length, padding='post', truncating='post')\n",
    "    preds = model.predict(padded)\n",
    "    \n",
    "    classes = np.argmax(preds, axis = 1)\n",
    "    dominant_class = np.bincount(classes).argmax()\n",
    "    \n",
    "    if dominant_class == 0:\n",
    "        prediction = 'Business'\n",
    "    elif dominant_class == 1:\n",
    "        prediction = 'Food & Drink'\n",
    "    elif dominant_class == 2:\n",
    "        prediction = 'Parenting'\n",
    "    elif dominant_class == 3:\n",
    "        prediction = 'Politics'\n",
    "    elif dominant_class == 4:\n",
    "        prediction = 'Wellness'\n",
    "    elif dominant_class == 5:\n",
    "        prediction = 'World News'\n",
    "    \n",
    "    return prediction"
   ]
  },
  {
   "cell_type": "code",
   "execution_count": 122,
   "id": "76faf652",
   "metadata": {},
   "outputs": [
    {
     "data": {
      "text/plain": [
       "'Politics'"
      ]
     },
     "execution_count": 122,
     "metadata": {},
     "output_type": "execute_result"
    }
   ],
   "source": [
    "classify_headline(\"The US passes new law for international governments\")"
   ]
  },
  {
   "cell_type": "code",
   "execution_count": 123,
   "id": "797a5d6e",
   "metadata": {},
   "outputs": [
    {
     "data": {
      "text/plain": [
       "'Politics'"
      ]
     },
     "execution_count": 123,
     "metadata": {},
     "output_type": "execute_result"
    }
   ],
   "source": [
    "classify_headline(\"New dinner recipes with healthy food\")"
   ]
  },
  {
   "cell_type": "code",
   "execution_count": 140,
   "id": "0ff01f2c",
   "metadata": {},
   "outputs": [
    {
     "data": {
      "text/plain": [
       "'Politics'"
      ]
     },
     "execution_count": 140,
     "metadata": {},
     "output_type": "execute_result"
    }
   ],
   "source": [
    "classify_headline(\"children\")"
   ]
  },
  {
   "cell_type": "code",
   "execution_count": null,
   "id": "ba063f8c",
   "metadata": {},
   "outputs": [],
   "source": []
  }
 ],
 "metadata": {
  "kernelspec": {
   "display_name": "Python 3 (ipykernel)",
   "language": "python",
   "name": "python3"
  },
  "language_info": {
   "codemirror_mode": {
    "name": "ipython",
    "version": 3
   },
   "file_extension": ".py",
   "mimetype": "text/x-python",
   "name": "python",
   "nbconvert_exporter": "python",
   "pygments_lexer": "ipython3",
   "version": "3.8.8"
  }
 },
 "nbformat": 4,
 "nbformat_minor": 5
}
